{
  "cells": [
    {
      "cell_type": "markdown",
      "metadata": {
        "id": "view-in-github",
        "colab_type": "text"
      },
      "source": [
        "<a href=\"https://colab.research.google.com/github/nalsadi/ME736-777/blob/main/A3/A3_Q8.ipynb\" target=\"_parent\"><img src=\"https://colab.research.google.com/assets/colab-badge.svg\" alt=\"Open In Colab\"/></a>"
      ]
    },
    {
      "cell_type": "markdown",
      "metadata": {
        "papermill": {
          "duration": 0.01846,
          "end_time": "2021-03-07T01:23:39.292227",
          "exception": false,
          "start_time": "2021-03-07T01:23:39.273767",
          "status": "completed"
        },
        "tags": [],
        "id": "b82MvbcyKOZ3"
      },
      "source": [
        "# Assignment 3 Question 8\n",
        "\n",
        "**By:** Your Name (Student Number)\n",
        "\n",
        "\n",
        "\n",
        "\n",
        "**Hint**: Closely related to the Bitcoin example in class\n",
        "\n"
      ]
    },
    {
      "cell_type": "markdown",
      "metadata": {
        "papermill": {
          "duration": 0.017533,
          "end_time": "2021-03-07T01:23:39.394994",
          "exception": false,
          "start_time": "2021-03-07T01:23:39.377461",
          "status": "completed"
        },
        "tags": [],
        "id": "4zWCu-UFKOaE"
      },
      "source": [
        "##  Library Import"
      ]
    },
    {
      "cell_type": "code",
      "execution_count": null,
      "metadata": {
        "_cell_guid": "b1076dfc-b9ad-4769-8c92-a6c4dae69d19",
        "_uuid": "8f2839f25d086af736a60e9eeb907d3b93b6e0e5",
        "execution": {
          "iopub.execute_input": "2021-03-07T01:23:39.434110Z",
          "iopub.status.busy": "2021-03-07T01:23:39.433279Z",
          "iopub.status.idle": "2021-03-07T01:23:39.453751Z",
          "shell.execute_reply": "2021-03-07T01:23:39.451718Z"
        },
        "papermill": {
          "duration": 0.041784,
          "end_time": "2021-03-07T01:23:39.453969",
          "exception": false,
          "start_time": "2021-03-07T01:23:39.412185",
          "status": "completed"
        },
        "tags": [],
        "id": "hsn4sLD5KOaF"
      },
      "outputs": [],
      "source": [
        "#Import your libraries"
      ]
    },
    {
      "cell_type": "markdown",
      "metadata": {
        "papermill": {
          "duration": 0.017608,
          "end_time": "2021-03-07T01:23:39.489612",
          "exception": false,
          "start_time": "2021-03-07T01:23:39.472004",
          "status": "completed"
        },
        "tags": [],
        "id": "uvl3CF0vKOaG"
      },
      "source": [
        "## Data Import "
      ]
    },
    {
      "cell_type": "code",
      "source": [
        "# Import data here"
      ],
      "metadata": {
        "id": "kM2Vcp_vNJ0c"
      },
      "execution_count": null,
      "outputs": []
    },
    {
      "cell_type": "markdown",
      "metadata": {
        "papermill": {
          "duration": 0.020858,
          "end_time": "2021-03-07T01:23:45.117772",
          "exception": false,
          "start_time": "2021-03-07T01:23:45.096914",
          "status": "completed"
        },
        "tags": [],
        "id": "jLk_3WwwKOaI"
      },
      "source": [
        "## Q Learning"
      ]
    },
    {
      "cell_type": "markdown",
      "metadata": {
        "papermill": {
          "duration": 0.020724,
          "end_time": "2021-03-07T01:23:45.159736",
          "exception": false,
          "start_time": "2021-03-07T01:23:45.139012",
          "status": "completed"
        },
        "tags": [],
        "id": "wq4q0ziPKOaI"
      },
      "source": [
        "### Define Actions"
      ]
    },
    {
      "cell_type": "code",
      "execution_count": null,
      "metadata": {
        "execution": {
          "iopub.execute_input": "2021-03-07T01:23:45.206220Z",
          "iopub.status.busy": "2021-03-07T01:23:45.205447Z",
          "iopub.status.idle": "2021-03-07T01:23:45.213233Z",
          "shell.execute_reply": "2021-03-07T01:23:45.213801Z"
        },
        "papermill": {
          "duration": 0.033201,
          "end_time": "2021-03-07T01:23:45.214012",
          "exception": false,
          "start_time": "2021-03-07T01:23:45.180811",
          "status": "completed"
        },
        "tags": [],
        "id": "1X1Af15-KOaI"
      },
      "outputs": [],
      "source": [
        "# Define the two actions here"
      ]
    },
    {
      "cell_type": "markdown",
      "metadata": {
        "papermill": {
          "duration": 0.021007,
          "end_time": "2021-03-07T01:23:45.256483",
          "exception": false,
          "start_time": "2021-03-07T01:23:45.235476",
          "status": "completed"
        },
        "tags": [],
        "id": "ZilRpGsTKOaJ"
      },
      "source": [
        "### Create Q Table"
      ]
    },
    {
      "cell_type": "code",
      "execution_count": null,
      "metadata": {
        "execution": {
          "iopub.execute_input": "2021-03-07T01:23:45.302939Z",
          "iopub.status.busy": "2021-03-07T01:23:45.302260Z",
          "iopub.status.idle": "2021-03-07T01:23:45.351708Z",
          "shell.execute_reply": "2021-03-07T01:23:45.351021Z"
        },
        "papermill": {
          "duration": 0.074027,
          "end_time": "2021-03-07T01:23:45.351833",
          "exception": false,
          "start_time": "2021-03-07T01:23:45.277806",
          "status": "completed"
        },
        "tags": [],
        "id": "AoDfsjrCKOaJ"
      },
      "outputs": [],
      "source": [
        "# Create the Q Table"
      ]
    },
    {
      "cell_type": "markdown",
      "metadata": {
        "papermill": {
          "duration": 0.021877,
          "end_time": "2021-03-07T01:23:45.395327",
          "exception": false,
          "start_time": "2021-03-07T01:23:45.373450",
          "status": "completed"
        },
        "tags": [],
        "id": "HErguooUKOaK"
      },
      "source": [
        "### Defining Functions for Learning Process "
      ]
    },
    {
      "cell_type": "code",
      "execution_count": null,
      "metadata": {
        "execution": {
          "iopub.execute_input": "2021-03-07T01:23:45.447932Z",
          "iopub.status.busy": "2021-03-07T01:23:45.446919Z",
          "iopub.status.idle": "2021-03-07T01:23:45.450185Z",
          "shell.execute_reply": "2021-03-07T01:23:45.449486Z"
        },
        "papermill": {
          "duration": 0.033094,
          "end_time": "2021-03-07T01:23:45.450308",
          "exception": false,
          "start_time": "2021-03-07T01:23:45.417214",
          "status": "completed"
        },
        "tags": [],
        "id": "ooRueY3VKOaK"
      },
      "outputs": [],
      "source": [
        "# Define rewards"
      ]
    },
    {
      "cell_type": "code",
      "execution_count": null,
      "metadata": {
        "execution": {
          "iopub.execute_input": "2021-03-07T01:23:45.500763Z",
          "iopub.status.busy": "2021-03-07T01:23:45.499783Z",
          "iopub.status.idle": "2021-03-07T01:23:45.503010Z",
          "shell.execute_reply": "2021-03-07T01:23:45.502374Z"
        },
        "papermill": {
          "duration": 0.03097,
          "end_time": "2021-03-07T01:23:45.503128",
          "exception": false,
          "start_time": "2021-03-07T01:23:45.472158",
          "status": "completed"
        },
        "tags": [],
        "id": "ipA5eemZKOaK"
      },
      "outputs": [],
      "source": [
        "# Define the process for choosing an action"
      ]
    },
    {
      "cell_type": "markdown",
      "metadata": {
        "papermill": {
          "duration": 0.021618,
          "end_time": "2021-03-07T01:23:45.656538",
          "exception": false,
          "start_time": "2021-03-07T01:23:45.634920",
          "status": "completed"
        },
        "tags": [],
        "id": "HPUpPP8gKOaL"
      },
      "source": [
        "## Learning Process"
      ]
    },
    {
      "cell_type": "code",
      "execution_count": null,
      "metadata": {
        "execution": {
          "iopub.execute_input": "2021-03-07T01:23:45.761750Z",
          "iopub.status.busy": "2021-03-07T01:23:45.761032Z",
          "iopub.status.idle": "2021-03-07T01:23:45.764040Z",
          "shell.execute_reply": "2021-03-07T01:23:45.763396Z"
        },
        "papermill": {
          "duration": 0.031738,
          "end_time": "2021-03-07T01:23:45.764163",
          "exception": false,
          "start_time": "2021-03-07T01:23:45.732425",
          "status": "completed"
        },
        "tags": [],
        "id": "_GzY94k0KOaM"
      },
      "outputs": [],
      "source": [
        "# Define hyperparameters"
      ]
    },
    {
      "cell_type": "markdown",
      "metadata": {
        "papermill": {
          "duration": 0.022048,
          "end_time": "2021-03-07T01:23:45.808678",
          "exception": false,
          "start_time": "2021-03-07T01:23:45.786630",
          "status": "completed"
        },
        "tags": [],
        "id": "_8Fa6bkfKOaM"
      },
      "source": [
        "#### Steps for Q-network learning\n",
        "\n",
        "Here are the 3 basic steps:\n",
        "\n",
        "- Agent starts in a state=0 takes an action and receives a reward\n",
        "- Agent selects action by referencing Q-table with highest value (max) OR by random (epsilon, ε)\n",
        "- Update q-values"
      ]
    },
    {
      "cell_type": "code",
      "execution_count": null,
      "metadata": {
        "execution": {
          "iopub.execute_input": "2021-03-07T01:23:45.864067Z",
          "iopub.status.busy": "2021-03-07T01:23:45.863269Z",
          "iopub.status.idle": "2021-03-07T01:34:38.542495Z",
          "shell.execute_reply": "2021-03-07T01:34:38.543059Z"
        },
        "papermill": {
          "duration": 652.71206,
          "end_time": "2021-03-07T01:34:38.543236",
          "exception": false,
          "start_time": "2021-03-07T01:23:45.831176",
          "status": "completed"
        },
        "tags": [],
        "id": "DKyi14qKKOaN"
      },
      "outputs": [],
      "source": [
        "# Define the learning process"
      ]
    },
    {
      "cell_type": "markdown",
      "metadata": {
        "papermill": {
          "duration": 0.028589,
          "end_time": "2021-03-07T01:34:38.600997",
          "exception": false,
          "start_time": "2021-03-07T01:34:38.572408",
          "status": "completed"
        },
        "tags": [],
        "id": "cCUmvUvIKOaN"
      },
      "source": [
        "## Analyzing Results"
      ]
    },
    {
      "cell_type": "code",
      "execution_count": null,
      "metadata": {
        "execution": {
          "iopub.execute_input": "2021-03-07T01:34:38.665430Z",
          "iopub.status.busy": "2021-03-07T01:34:38.664620Z",
          "iopub.status.idle": "2021-03-07T01:34:38.901799Z",
          "shell.execute_reply": "2021-03-07T01:34:38.901097Z"
        },
        "papermill": {
          "duration": 0.271918,
          "end_time": "2021-03-07T01:34:38.901940",
          "exception": false,
          "start_time": "2021-03-07T01:34:38.630022",
          "status": "completed"
        },
        "tags": [],
        "id": "s8llTjrTKOaN"
      },
      "outputs": [],
      "source": [
        "# Analyze the rewards over the episodes"
      ]
    },
    {
      "cell_type": "markdown",
      "metadata": {
        "papermill": {
          "duration": 0.030689,
          "end_time": "2021-03-07T01:34:38.963745",
          "exception": false,
          "start_time": "2021-03-07T01:34:38.933056",
          "status": "completed"
        },
        "tags": [],
        "id": "cLVA9QaAKOaO"
      },
      "source": [
        "## Plot the Results"
      ]
    },
    {
      "cell_type": "code",
      "source": [
        "# Visualize the results"
      ],
      "metadata": {
        "id": "wH9Ce5RTN6bN"
      },
      "execution_count": null,
      "outputs": []
    }
  ],
  "metadata": {
    "kernelspec": {
      "display_name": "Python 3",
      "language": "python",
      "name": "python3"
    },
    "language_info": {
      "codemirror_mode": {
        "name": "ipython",
        "version": 3
      },
      "file_extension": ".py",
      "mimetype": "text/x-python",
      "name": "python",
      "nbconvert_exporter": "python",
      "pygments_lexer": "ipython3",
      "version": "3.7.6"
    },
    "papermill": {
      "duration": 686.191856,
      "end_time": "2021-03-07T01:35:00.683172",
      "environment_variables": {},
      "exception": null,
      "input_path": "__notebook__.ipynb",
      "output_path": "__notebook__.ipynb",
      "parameters": {},
      "start_time": "2021-03-07T01:23:34.491316",
      "version": "2.1.0"
    },
    "colab": {
      "provenance": [],
      "collapsed_sections": [],
      "toc_visible": true,
      "include_colab_link": true
    }
  },
  "nbformat": 4,
  "nbformat_minor": 0
}